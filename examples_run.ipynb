{
 "cells": [
  {
   "cell_type": "markdown",
   "id": "e02a5364-14ab-4ae5-ad8f-c280cc3b5e56",
   "metadata": {},
   "source": [
    "## Run GGL pipeline examples"
   ]
  },
  {
   "cell_type": "code",
   "execution_count": 27,
   "id": "942fb3d2-d2c4-46cf-aa62-f257880d06d4",
   "metadata": {
    "tags": []
   },
   "outputs": [],
   "source": [
    "import numpy as np\n",
    "import matplotlib.pyplot as plt\n",
    "import pandas as pd\n",
    "import astropy.io.fits as fits\n",
    "import h5py as h5\n",
    "import setup\n",
    "import ggl\n",
    "\n",
    "plt.rcParams.update({\n",
    "    'font.family':'serif',\n",
    "    'font.size':12.0,\n",
    "    'axes.labelsize': 'x-large',\n",
    "    'xtick.labelsize':'large',\n",
    "    'ytick.labelsize':'large',\n",
    "    'axes.titlesize':'x-large',\n",
    "    'legend.fontsize': 'large',\n",
    "    'xtick.direction':'in',\n",
    "    'ytick.direction':'in',\n",
    "    'lines.linewidth':2,\n",
    "    'patch.linewidth':2,\n",
    "    'lines.color':'black',\n",
    "    'mathtext.fontset' : 'stix',\n",
    "    'figure.titlesize': 'xx-large',\n",
    "    'figure.facecolor':  (1.0, 1.0, 1.0, 1.0),\n",
    "    'axes.facecolor':    (1.0, 1.0, 1.0, 1.0), \n",
    "    'savefig.facecolor': (1.0, 1.0, 1.0, 1.0)})\n",
    "\n",
    "colors = ['dodgerblue', 'darkgreen', 'darkorange', 'darkred', 'violet', 'slateblue']\n",
    "\n",
    "zl_bins = [[0.20, 0.40], \n",
    "            [0.40, 0.55], \n",
    "            [0.55, 0.70], \n",
    "            [0.70, 0.85],\n",
    "            [0.85, 0.95],\n",
    "            [0.95, 1.05]]"
   ]
  },
  {
   "cell_type": "code",
   "execution_count": 55,
   "id": "f0c40423-0a6a-4fd4-9595-451b3092de12",
   "metadata": {
    "tags": []
   },
   "outputs": [],
   "source": [
    "def plot_gammat(theta, gammat, gammat_err, l_zbins, s_zbins):\n",
    "    \n",
    "    fig = plt.figure(figsize=(6, 4))\n",
    "    \n",
    "    plt.errorbar(theta, gammat, gammat_err, \n",
    "                ls='', marker='.', color=colors[s_zbin], label=f'source bin {s_zbin+1}')\n",
    "            \n",
    "    plt.title(f'lens bin {l_zbin+1}')\n",
    "    plt.yscale('log')\n",
    "    plt.xscale('log')\n",
    "    plt.xlabel(r'$\\theta$ [arcmin]')\n",
    "    plt.ylabel(r'$\\gamma_t (\\theta)$')\n",
    "    plt.legend()\n",
    "\n",
    "    plt.tight_layout()\n",
    "    fig.patch.set_alpha(1.0)\n",
    "    #plt.savefig('gammat.png', dpi=150, bbox_inches='tight')\n",
    "    #plt.show()"
   ]
  },
  {
   "cell_type": "markdown",
   "id": "f5cadaca-abcf-4452-99ac-180be8acd903",
   "metadata": {},
   "source": [
    "### Run it for single lens x source bins"
   ]
  },
  {
   "cell_type": "markdown",
   "id": "f6ba3443-a405-4085-82e3-74ba33d55a01",
   "metadata": {},
   "source": [
    "e.g. for MagLim bin 1, Metacal bin 4"
   ]
  },
  {
   "cell_type": "code",
   "execution_count": 38,
   "id": "01a30339-7bea-44d5-ab3a-f80788308a66",
   "metadata": {
    "tags": []
   },
   "outputs": [
    {
     "name": "stdout",
     "output_type": "stream",
     "text": [
      "Lens bin 0, source bin 3\n",
      "Num lenses = 2236473\n",
      "Num sources = 25091297\n",
      "Average e1 = 0.000406\n",
      "Average e2 = -0.000027\n",
      "Num randoms = 89057674\n"
     ]
    }
   ],
   "source": [
    "mastercat = '/global/cfs/cdirs/des/www/y3_cats/Y3_mastercat_02_05_21.h5'\n",
    "randoms_y3 = '/global/cfs/cdirs/des/y6-gglensing/Y3_maglim_randoms.fits'\n",
    "\n",
    "l_zbin = 0\n",
    "zl_lims = zl_bins[l_zbin]\n",
    "s_zbin = 3\n",
    "print('Lens bin {:d}, source bin {:d}'.format(l_zbin, s_zbin))\n",
    "            \n",
    "# load lenses maglim Y3        \n",
    "ra_l, dec_l, w_l = setup.load_lens_Y3_maglim(mastercat, zl_lims)\n",
    "print('Num lenses = {:d}'.format(len(ra_l)))\n",
    "\n",
    "# load sources metacal Y3\n",
    "ra_s, dec_s, e1, e2, R, w_s = setup.load_source_metacal(mastercat, s_zbin)\n",
    "print('Num sources = {:d}'.format(len(ra_s)))\n",
    "print('Average e1 = {:f}'.format(np.average(e1, weights=w_s)))\n",
    "print('Average e2 = {:f}'.format(np.average(e2, weights=w_s)))\n",
    "\n",
    "# load random points Y3\n",
    "ra_r, dec_r = setup.load_randoms_Y3(randoms_y3, zl_lims)\n",
    "print('Num randoms = {:d}'.format(len(ra_r)))"
   ]
  },
  {
   "cell_type": "code",
   "execution_count": 39,
   "id": "c0a1b282-82dd-4582-bba9-04e3e6d272b3",
   "metadata": {
    "tags": []
   },
   "outputs": [
    {
     "name": "stdout",
     "output_type": "stream",
     "text": [
      "Running GGL ...\n",
      "Done NG\n",
      "Done RG\n",
      "Not saving GGL results to file\n",
      "Done Covariance\n",
      "Not saving covariances to file\n"
     ]
    }
   ],
   "source": [
    "theta_lims = [2.5, 250.]\n",
    "ang_nbins = 20\n",
    "sep_units = 'arcmin'\n",
    "bin_slop = 0.0\n",
    "low_mem = False\n",
    "npatch = 200\n",
    "\n",
    "use_randoms = True\n",
    "use_boost = True\n",
    "compute_cov = True\n",
    "\n",
    "(theta, gammat, gammax, gammat_shot_noise, xi_npairs, xi_weight,\n",
    "gammat_tot, gammax_tot, boost,\n",
    "gammat_rand, gammax_rand, xi_npairs_rand, xi_weight_rand,\n",
    "cov_gammat, cov_gammax, cov_boost, cov_gammat_rand) = ggl.get_ggl(ra_l, dec_l, w_l, ra_s, dec_s, w_s, \n",
    "                                                                  e1, e2, R, ra_r, dec_r, 'deg',\n",
    "                                                                  theta_lims, ang_nbins, sep_units, bin_slop, low_mem, \n",
    "                                                                  use_randoms, use_boost, compute_cov, npatch, \n",
    "                                                                  ggl_file_out='', cov_file_out='')\n",
    "err_gammat = np.sqrt(np.diag(cov_gammat))"
   ]
  },
  {
   "cell_type": "code",
   "execution_count": 40,
   "id": "d557922a-d613-4fdc-9636-6418ad11da11",
   "metadata": {
    "tags": []
   },
   "outputs": [
    {
     "data": {
      "image/png": "[encoded data removed]",
      "text/plain": [
       "<Figure size 600x400 with 1 Axes>"
      ]
     },
     "metadata": {},
     "output_type": "display_data"
    }
   ],
   "source": [
    "plot_gammat(theta, gammat_tot, err_gammat, l_zbin, s_zbin)\n",
    "plt.show()"
   ]
  },
  {
   "cell_type": "code",
   "execution_count": null,
   "id": "400171b9-44f1-4122-ae35-2d56869da12f",
   "metadata": {},
   "outputs": [],
   "source": []
  },
  {
   "cell_type": "markdown",
   "id": "6c96a1d5-52bd-4f48-8a7f-209d16a2b8de",
   "metadata": {},
   "source": [
    "### Run it with your custom data selection"
   ]
  },
  {
   "cell_type": "markdown",
   "id": "9053aec5-82cb-4232-a038-60e229486b1c",
   "metadata": {},
   "source": [
    "e.g. red/blue MagLim lenses"
   ]
  },
  {
   "cell_type": "code",
   "execution_count": 43,
   "id": "f88fee40-7cd6-47e7-b1de-6f6d49e4f555",
   "metadata": {
    "tags": []
   },
   "outputs": [],
   "source": [
    "color_cuts = np.array([100,100,100,1.45,1.6,1.7]) # first 3 bins are all blue\n",
    "\n",
    "def load_lens_Y3_maglim_redblue(file_name, zbin_lims, zbin, color_cuts, red=True):\n",
    "    \"\"\"Load ra, dec, weight of Y3 MagLim red/blue redshift bin zbin in [zbin_lims[0], zbin_lims[1]] from file\"\"\"\n",
    "    \n",
    "    with h5.File(file_name, 'r') as f:\n",
    "        select_maglim = np.array(f['index/maglim/select'])\n",
    "        ra = np.array(f['catalog/gold/ra'])[select_maglim]\n",
    "        dec = np.array(f['catalog/gold/dec'])[select_maglim]\n",
    "        z = np.array(f['catalog/dnf/unsheared/zmean_sof'])[select_maglim]\n",
    "        mag_r = np.array(f['catalog/gold/sof_cm_mag_corrected_r'])[select_maglim]\n",
    "        mag_z = np.array(f['catalog/gold/sof_cm_mag_corrected_z'])[select_maglim]\n",
    "    \n",
    "    ### Y3 maglim weights ?\n",
    "    w = np.ones(len(ra))\n",
    "\n",
    "    zbin_mask = np.where((z>zbin_lims[0]) * (z<zbin_lims[1]))[0]\n",
    "    \n",
    "    if red == True:\n",
    "        red_mask = np.where(mag_r[zbin_mask]-mag_z[zbin_mask]>=color_cuts[zbin])[0]\n",
    "    else: # select blue\n",
    "        red_mask = np.where(mag_r[zbin_mask]-mag_z[zbin_mask]<color_cuts[zbin])[0]\n",
    "    \n",
    "    ra = ra[zbin_mask][red_mask]\n",
    "    dec = dec[zbin_mask][red_mask]\n",
    "    w = w[zbin_mask][red_mask]\n",
    "    mag_r = mag_r[zbin_mask][red_mask]\n",
    "    mag_z = mag_z[zbin_mask][red_mask]\n",
    "        \n",
    "    return ra, dec, w, mag_r, mag_z"
   ]
  },
  {
   "cell_type": "code",
   "execution_count": 44,
   "id": "6116783b-25e6-490b-8eb2-69e59856040c",
   "metadata": {
    "tags": []
   },
   "outputs": [
    {
     "name": "stdout",
     "output_type": "stream",
     "text": [
      "Lens bin 3, source bin 3\n",
      "Num lenses = 1005013\n",
      "Num sources = 25091297\n",
      "Average e1 = 0.000406\n",
      "Average e2 = -0.000027\n",
      "Num randoms = 86645516\n"
     ]
    }
   ],
   "source": [
    "mastercat = '/global/cfs/cdirs/des/www/y3_cats/Y3_mastercat_02_05_21.h5'\n",
    "randoms_y3 = '/global/cfs/cdirs/des/y6-gglensing/Y3_maglim_randoms.fits'\n",
    "\n",
    "l_zbin = 3\n",
    "zl_lims = zl_bins[l_zbin]\n",
    "s_zbin = 3\n",
    "print('Lens bin {:d}, source bin {:d}'.format(l_zbin, s_zbin))\n",
    "            \n",
    "# load lenses maglim Y3 red  \n",
    "ra_l, dec_l, w_l, mag_r, mag_z = load_lens_Y3_maglim_redblue(mastercat, zl_lims, l_zbin, color_cuts, red=True)\n",
    "print('Num lenses = {:d}'.format(len(ra_l)))\n",
    "\n",
    "# load sources metacal Y3\n",
    "ra_s, dec_s, e1, e2, R, w_s = setup.load_source_metacal(mastercat, s_zbin)\n",
    "print('Num sources = {:d}'.format(len(ra_s)))\n",
    "print('Average e1 = {:f}'.format(np.average(e1, weights=w_s)))\n",
    "print('Average e2 = {:f}'.format(np.average(e2, weights=w_s)))\n",
    "\n",
    "# load random points Y3\n",
    "ra_r, dec_r = setup.load_randoms_Y3(randoms_y3, zl_lims)\n",
    "print('Num randoms = {:d}'.format(len(ra_r)))"
   ]
  },
  {
   "cell_type": "code",
   "execution_count": 60,
   "id": "f63882ca-c596-4efe-b8a6-aaebdafe7afd",
   "metadata": {
    "tags": []
   },
   "outputs": [
    {
     "data": {
      "image/png": "[encoded data removed]",
      "text/plain": [
       "<Figure size 500x400 with 1 Axes>"
      ]
     },
     "metadata": {},
     "output_type": "display_data"
    }
   ],
   "source": [
    "fig = plt.figure(figsize=(5, 4))\n",
    "\n",
    "plt.hist2d(mag_r, mag_r-mag_z, bins=200, range=([17,25],[0,3]))\n",
    "plt.hlines(color_cuts[l_zbin], 17, 25, color='orange', ls='--', lw=1)\n",
    "plt.xlabel('r [mag]')\n",
    "plt.ylabel('r - z [mag]')\n",
    "\n",
    "plt.tight_layout()\n",
    "fig.patch.set_alpha(1.0)\n",
    "plt.show()"
   ]
  },
  {
   "cell_type": "code",
   "execution_count": 51,
   "id": "ec77f4c1-f0b0-4520-80c7-cd2e8b3e3362",
   "metadata": {
    "tags": []
   },
   "outputs": [
    {
     "name": "stdout",
     "output_type": "stream",
     "text": [
      "Running GGL ...\n",
      "Done NG\n",
      "Done RG\n",
      "Not saving GGL results to file\n",
      "Done Covariance\n",
      "Not saving covariances to file\n"
     ]
    }
   ],
   "source": [
    "theta_lims = [0.25, 250.]\n",
    "ang_nbins = 30\n",
    "sep_units = 'arcmin'\n",
    "bin_slop = 0.0\n",
    "low_mem = False\n",
    "npatch = 200\n",
    "\n",
    "use_randoms = True\n",
    "use_boost = True\n",
    "compute_cov = True\n",
    "\n",
    "(theta, gammat, gammax, gammat_shot_noise, xi_npairs, xi_weight,\n",
    "gammat_tot, gammax_tot, boost,\n",
    "gammat_rand, gammax_rand, xi_npairs_rand, xi_weight_rand,\n",
    "cov_gammat, cov_gammax, cov_boost, cov_gammat_rand) = ggl.get_ggl(ra_l, dec_l, w_l, ra_s, dec_s, w_s, \n",
    "                                                                  e1, e2, R, ra_r, dec_r, 'deg',\n",
    "                                                                  theta_lims, ang_nbins, sep_units, bin_slop, low_mem, \n",
    "                                                                  use_randoms, use_boost, compute_cov, npatch, \n",
    "                                                                  ggl_file_out='', cov_file_out='')"
   ]
  },
  {
   "cell_type": "code",
   "execution_count": 52,
   "id": "7450a4b3-410d-4205-ab7c-6dff0d78973c",
   "metadata": {
    "tags": []
   },
   "outputs": [],
   "source": [
    "err_gammat = np.sqrt(np.diag(cov_gammat))"
   ]
  },
  {
   "cell_type": "code",
   "execution_count": 59,
   "id": "213a0739-4dc5-4fb4-9bc4-6bc0cf08b1e9",
   "metadata": {
    "tags": []
   },
   "outputs": [
    {
     "data": {
      "image/png": "[encoded data removed]",
      "text/plain": [
       "<Figure size 600x400 with 1 Axes>"
      ]
     },
     "metadata": {},
     "output_type": "display_data"
    }
   ],
   "source": [
    "plot_gammat(theta, gammat_tot, err_gammat, l_zbin, s_zbin)\n",
    "plt.vlines(2.5, 5e-6, 1.2e-2, lw=1, ls='--')\n",
    "plt.ylim(5e-6, 1.2e-2)\n",
    "plt.show()"
   ]
  },
  {
   "cell_type": "code",
   "execution_count": null,
   "id": "988b3745-816f-4770-8820-39d177e2d33d",
   "metadata": {},
   "outputs": [],
   "source": []
  }
 ],
 "metadata": {
  "kernelspec": {
   "display_name": "ggl_env",
   "language": "python",
   "name": "ggl_env"
  },
  "language_info": {
   "codemirror_mode": {
    "name": "ipython",
    "version": 3
   },
   "file_extension": ".py",
   "mimetype": "text/x-python",
   "name": "python",
   "nbconvert_exporter": "python",
   "pygments_lexer": "ipython3",
   "version": "3.9.7"
  }
 },
 "nbformat": 4,
 "nbformat_minor": 5
}
